{
 "nbformat": 4,
 "nbformat_minor": 2,
 "metadata": {
  "language_info": {
   "name": "python",
   "codemirror_mode": {
    "name": "ipython",
    "version": 3
   },
   "version": "3.8.1-final"
  },
  "orig_nbformat": 2,
  "file_extension": ".py",
  "mimetype": "text/x-python",
  "name": "python",
  "npconvert_exporter": "python",
  "pygments_lexer": "ipython3",
  "version": 3,
  "kernelspec": {
   "name": "python38164bitb37ac5aafad6408283f2253b92dbd0c4",
   "display_name": "Python 3.8.1 64-bit"
  }
 },
 "cells": [
  {
   "cell_type": "code",
   "execution_count": 2,
   "metadata": {},
   "outputs": [],
   "source": [
    "#Testing push\n",
    "\n",
    "#Functions for data import and visualization\n",
    "from pandas import read_csv #Used to open CSV data files\n",
    "from pandas.plotting import scatter_matrix #Plots of binary relationships between all variables\n",
    "from matplotlib import pyplot #Boxplots and histograms\n",
    "from numpy import loadtxt\n",
    "\n",
    "#Functions for prepare data\n",
    "from sklearn.model_selection import train_test_split #Split data in X_train, X_test, Y_train and Y_test\n",
    "from sklearn.model_selection import cross_val_score #Apply cross validation using an algorithm\n",
    "from sklearn.model_selection import StratifiedKFold #Create a kfold to use in \"cross_val_score\"\n",
    "\n",
    "#Functions for classification the algorithms\n",
    "from sklearn.metrics import classification_report #A text report showing the main classification metrics\n",
    "from sklearn.metrics import confusion_matrix #A confusion matrix of the prediction\n",
    "from sklearn.metrics import accuracy_score #Accuracy of the prediction\n",
    "\n",
    "#sklearn algorithms\n",
    "\n",
    "from sklearn.svm import SVC\n",
    "#Model save \n",
    "import pickle #Contain the functions used to save and load a model"
   ]
  },
  {
   "cell_type": "code",
   "execution_count": 3,
   "metadata": {},
   "outputs": [],
   "source": [
    "#Load dataset\n",
    "url='./train.csv'\n",
    "data = read_csv(url)"
   ]
  },
  {
   "cell_type": "code",
   "execution_count": 5,
   "metadata": {},
   "outputs": [
    {
     "output_type": "stream",
     "name": "stdout",
     "text": "(15120, 56)\n"
    }
   ],
   "source": [
    "print(data.shape)"
   ]
  },
  {
   "cell_type": "code",
   "execution_count": null,
   "metadata": {},
   "outputs": [],
   "source": [
    "data.head(10)"
   ]
  },
  {
   "cell_type": "code",
   "execution_count": null,
   "metadata": {},
   "outputs": [],
   "source": [
    "data.tail(10)"
   ]
  },
  {
   "cell_type": "code",
   "execution_count": null,
   "metadata": {},
   "outputs": [],
   "source": [
    "print(data.describe())"
   ]
  },
  {
   "cell_type": "code",
   "execution_count": 4,
   "metadata": {},
   "outputs": [
    {
     "output_type": "stream",
     "name": "stdout",
     "text": "Y  12096\nX  665280\n"
    }
   ],
   "source": [
    "#Split out data\n",
    "array = data.values\n",
    "X = array[:,0:55]\n",
    "Y = array[:,55]\n",
    "X_train, X_test, Y_train, Y_test = train_test_split(X, Y, test_size=0.20, random_state=1)\n",
    "print('Y ' ,Y_train.size)\n",
    "print('X ' ,X_train.size)"
   ]
  },
  {
   "cell_type": "code",
   "execution_count": 5,
   "metadata": {},
   "outputs": [],
   "source": [
    "models = []\n",
    "models.append(SVC(gamma='scale'))\n",
    "models.append(SVC(gamma='auto'))\n",
    "models.append(SVC(kernel='linear'))\n",
    ""
   ]
  },
  {
   "cell_type": "code",
   "execution_count": 21,
   "metadata": {},
   "outputs": [],
   "source": [
    "models[0].fit(X_train, Y_train)\n",
    "predictions = models[0].predict(X_test)"
   ]
  },
  {
   "cell_type": "code",
   "execution_count": 22,
   "metadata": {},
   "outputs": [
    {
     "output_type": "stream",
     "name": "stdout",
     "text": "Accuracy =  0.5562169312169312\n[[197  75   1   0  36   0 125]\n [127 151  16   1 135   8  20]\n [  0   9 179 144  32  73   0]\n [  0   0  84 333   0  30   0]\n [ 12  58  20   0 315  13   0]\n [  0   2 131  80  83 115   0]\n [ 25   1   0   0   1   0 392]]\n              precision    recall  f1-score   support\n\n           1       0.55      0.45      0.50       434\n           2       0.51      0.33      0.40       458\n           3       0.42      0.41      0.41       437\n           4       0.60      0.74      0.66       447\n           5       0.52      0.75      0.62       418\n           6       0.48      0.28      0.35       411\n           7       0.73      0.94      0.82       419\n\n    accuracy                           0.56      3024\n   macro avg       0.54      0.56      0.54      3024\nweighted avg       0.54      0.56      0.54      3024\n\n"
    }
   ],
   "source": [
    "print('Accuracy = ', accuracy_score(Y_test, predictions))\n",
    "print(confusion_matrix(Y_test, predictions))\n",
    "print(classification_report(Y_test, predictions))"
   ]
  },
  {
   "cell_type": "code",
   "execution_count": 23,
   "metadata": {},
   "outputs": [],
   "source": [
    "models[1].fit(X_train, Y_train)\n",
    "predictions = models[1].predict(X_test)"
   ]
  },
  {
   "cell_type": "code",
   "execution_count": 24,
   "metadata": {},
   "outputs": [
    {
     "output_type": "stream",
     "name": "stdout",
     "text": "Accuracy =  0.13723544973544974\n[[  0   0   0   0   0 434   0]\n [  0   0   0   0   0 458   0]\n [  0   0   0   0   0 437   0]\n [  0   0   0   1   0 446   0]\n [  0   0   0   0   3 415   0]\n [  0   0   0   0   0 411   0]\n [  0   0   0   0   0 419   0]]\n              precision    recall  f1-score   support\n\n           1       0.00      0.00      0.00       434\n           2       0.00      0.00      0.00       458\n           3       0.00      0.00      0.00       437\n           4       1.00      0.00      0.00       447\n           5       1.00      0.01      0.01       418\n           6       0.14      1.00      0.24       411\n           7       0.00      0.00      0.00       419\n\n    accuracy                           0.14      3024\n   macro avg       0.31      0.14      0.04      3024\nweighted avg       0.30      0.14      0.04      3024\n\n"
    }
   ],
   "source": [
    "print('Accuracy = ', accuracy_score(Y_test, predictions))\n",
    "print(confusion_matrix(Y_test, predictions))\n",
    "print(classification_report(Y_test, predictions))"
   ]
  },
  {
   "cell_type": "code",
   "execution_count": 6,
   "metadata": {},
   "outputs": [],
   "source": [
    "models[2].fit(X_train, Y_train)\n",
    "predictions = models[2].predict(X_test)"
   ]
  },
  {
   "cell_type": "code",
   "execution_count": null,
   "metadata": {},
   "outputs": [],
   "source": [
    "print('Accuracy = ', accuracy_score(Y_test, predictions))"
   ]
  },
  {
   "cell_type": "code",
   "execution_count": null,
   "metadata": {},
   "outputs": [],
   "source": []
  }
 ]
}